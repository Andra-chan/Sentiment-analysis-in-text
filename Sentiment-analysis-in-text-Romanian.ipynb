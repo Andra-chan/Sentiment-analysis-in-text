{
 "cells": [
  {
   "cell_type": "code",
   "execution_count": 74,
   "metadata": {},
   "outputs": [],
   "source": [
    "import pandas as pd\n",
    "import sys\n",
    "import re\n",
    "import os\n",
    "\n",
    "import pathlib\n",
    "import pickle\n",
    "import string\n",
    "import numpy as np\n",
    "\n",
    "import matplotlib.pyplot as plt\n",
    "\n",
    "import nltk\n",
    "from nltk.stem import PorterStemmer, SnowballStemmer\n",
    "from nltk.corpus import stopwords\n",
    "\n",
    "from sklearn.datasets import load_files\n",
    "from sklearn.tree import DecisionTreeClassifier\n",
    "import sklearn.metrics as metrics\n",
    "from sklearn import model_selection, naive_bayes, svm\n",
    "from sklearn.linear_model import LogisticRegression\n",
    "from sklearn.feature_extraction.text import TfidfVectorizer\n",
    "from sklearn.preprocessing import LabelEncoder\n",
    "from sklearn.feature_extraction.text import CountVectorizer as CountVectorizer\n",
    "from sklearn.feature_extraction.text import TfidfTransformer as TfidfTransformer\n",
    "from sklearn.pipeline import make_pipeline\n",
    "\n",
    "import lime\n",
    "import lime.lime_tabular\n",
    "from lime import lime_text\n",
    "from lime.lime_text import LimeTextExplainer\n",
    "\n",
    "%matplotlib inline"
   ]
  },
  {
   "cell_type": "code",
   "execution_count": null,
   "metadata": {
    "scrolled": false
   },
   "outputs": [],
   "source": []
  },
  {
   "cell_type": "markdown",
   "metadata": {},
   "source": [
    "<h2>1. Read the \"raw\" dataset</h2>"
   ]
  },
  {
   "cell_type": "code",
   "execution_count": 75,
   "metadata": {},
   "outputs": [
    {
     "data": {
      "text/html": [
       "<div>\n",
       "<style scoped>\n",
       "    .dataframe tbody tr th:only-of-type {\n",
       "        vertical-align: middle;\n",
       "    }\n",
       "\n",
       "    .dataframe tbody tr th {\n",
       "        vertical-align: top;\n",
       "    }\n",
       "\n",
       "    .dataframe thead th {\n",
       "        text-align: right;\n",
       "    }\n",
       "</style>\n",
       "<table border=\"1\" class=\"dataframe\">\n",
       "  <thead>\n",
       "    <tr style=\"text-align: right;\">\n",
       "      <th></th>\n",
       "      <th>text</th>\n",
       "      <th>label</th>\n",
       "    </tr>\n",
       "  </thead>\n",
       "  <tbody>\n",
       "    <tr>\n",
       "      <th>0</th>\n",
       "      <td>acest film a fost cel mai rau film pe care l-a...</td>\n",
       "      <td>0</td>\n",
       "    </tr>\n",
       "    <tr>\n",
       "      <th>1</th>\n",
       "      <td>calitatea de nostri a lui foley in acest film ...</td>\n",
       "      <td>1</td>\n",
       "    </tr>\n",
       "    <tr>\n",
       "      <th>3</th>\n",
       "      <td>creativitatea acestui film a fost pierduta de ...</td>\n",
       "      <td>0</td>\n",
       "    </tr>\n",
       "    <tr>\n",
       "      <th>4</th>\n",
       "      <td>cand am inchiriat acest lucru, speram ca ceea ...</td>\n",
       "      <td>0</td>\n",
       "    </tr>\n",
       "    <tr>\n",
       "      <th>5</th>\n",
       "      <td>acesta este un film de familie care incalzeste...</td>\n",
       "      <td>1</td>\n",
       "    </tr>\n",
       "    <tr>\n",
       "      <th>6</th>\n",
       "      <td>recomand\\nraportul calitate-pret unul foarte bun</td>\n",
       "      <td>1</td>\n",
       "    </tr>\n",
       "    <tr>\n",
       "      <th>7</th>\n",
       "      <td>acest film parea promitator, dar de fapt era d...</td>\n",
       "      <td>0</td>\n",
       "    </tr>\n",
       "    <tr>\n",
       "      <th>8</th>\n",
       "      <td>este foarte amuzant. are o distributie mare, c...</td>\n",
       "      <td>1</td>\n",
       "    </tr>\n",
       "    <tr>\n",
       "      <th>9</th>\n",
       "      <td>am jurat mult timp in urma ca niciodata, sa ma...</td>\n",
       "      <td>0</td>\n",
       "    </tr>\n",
       "    <tr>\n",
       "      <th>10</th>\n",
       "      <td>unul dintre filmele cele mai nihiliste si brut...</td>\n",
       "      <td>1</td>\n",
       "    </tr>\n",
       "  </tbody>\n",
       "</table>\n",
       "</div>"
      ],
      "text/plain": [
       "                                                 text  label\n",
       "0   acest film a fost cel mai rau film pe care l-a...      0\n",
       "1   calitatea de nostri a lui foley in acest film ...      1\n",
       "3   creativitatea acestui film a fost pierduta de ...      0\n",
       "4   cand am inchiriat acest lucru, speram ca ceea ...      0\n",
       "5   acesta este un film de familie care incalzeste...      1\n",
       "6    recomand\\nraportul calitate-pret unul foarte bun      1\n",
       "7   acest film parea promitator, dar de fapt era d...      0\n",
       "8   este foarte amuzant. are o distributie mare, c...      1\n",
       "9   am jurat mult timp in urma ca niciodata, sa ma...      0\n",
       "10  unul dintre filmele cele mai nihiliste si brut...      1"
      ]
     },
     "execution_count": 75,
     "metadata": {},
     "output_type": "execute_result"
    }
   ],
   "source": [
    "def get_articles() -> pd.DataFrame:\n",
    "    \"\"\"\n",
    "    data source: https://github.com/katakonst/sentiment-analysis-tensorflow/tree/master/datasets\n",
    "    :return: the dataset containing labeled articles\n",
    "    \"\"\"\n",
    " \n",
    "    path = pathlib.Path('C:/Users/C/Downloads/sentiment-analysis-tensorflow-master/datasets/ro/train')\n",
    "    \n",
    "    # load \n",
    "    data = load_files(path, encoding=\"utf-8\", decode_error=\"replace\", random_state=500)\n",
    "        \n",
    "    # remove newlines\n",
    "    data['data'] = [it.lower().replace('\\n\\n', ' ') for it in data['data']]\n",
    "\n",
    "    # convert dict to Pandas dataframe\n",
    "    df_raw = pd.DataFrame(list(zip(data['data'], data['target'])), columns=['text', 'label'])\n",
    "    \n",
    "    # select only rows with non empty text\n",
    "    df = df_raw[df_raw['text'] != '']\n",
    "    \n",
    "    return df\n",
    "\n",
    "df_raw = get_articles()\n",
    "df = df_raw.copy()\n",
    "df_raw.head(10)"
   ]
  },
  {
   "cell_type": "markdown",
   "metadata": {},
   "source": [
    "<h2>2. Pre-process dataset</h2>"
   ]
  },
  {
   "cell_type": "markdown",
   "metadata": {},
   "source": [
    "<h3>2.1. Cleanup + Tokenization + Stemming</h3>"
   ]
  },
  {
   "cell_type": "code",
   "execution_count": 76,
   "metadata": {},
   "outputs": [
    {
     "data": {
      "text/html": [
       "<div>\n",
       "<style scoped>\n",
       "    .dataframe tbody tr th:only-of-type {\n",
       "        vertical-align: middle;\n",
       "    }\n",
       "\n",
       "    .dataframe tbody tr th {\n",
       "        vertical-align: top;\n",
       "    }\n",
       "\n",
       "    .dataframe thead th {\n",
       "        text-align: right;\n",
       "    }\n",
       "</style>\n",
       "<table border=\"1\" class=\"dataframe\">\n",
       "  <thead>\n",
       "    <tr style=\"text-align: right;\">\n",
       "      <th></th>\n",
       "      <th>text</th>\n",
       "      <th>label</th>\n",
       "    </tr>\n",
       "  </thead>\n",
       "  <tbody>\n",
       "    <tr>\n",
       "      <th>0</th>\n",
       "      <td>[film, rau, film, vazut, vreodata, misiune, do...</td>\n",
       "      <td>0</td>\n",
       "    </tr>\n",
       "    <tr>\n",
       "      <th>1</th>\n",
       "      <td>[calitatea, foley, film, saturat, intens, celu...</td>\n",
       "      <td>1</td>\n",
       "    </tr>\n",
       "    <tr>\n",
       "      <th>3</th>\n",
       "      <td>[creativitatea, film, pierduta, inceput, scrii...</td>\n",
       "      <td>0</td>\n",
       "    </tr>\n",
       "    <tr>\n",
       "      <th>4</th>\n",
       "      <td>[inchiriat, lucru, speram, reign, of, fire, na...</td>\n",
       "      <td>0</td>\n",
       "    </tr>\n",
       "    <tr>\n",
       "      <th>5</th>\n",
       "      <td>[film, familie, incalzeste, inima, absolut, st...</td>\n",
       "      <td>1</td>\n",
       "    </tr>\n",
       "    <tr>\n",
       "      <th>6</th>\n",
       "      <td>[recomand, raportul, bun]</td>\n",
       "      <td>1</td>\n",
       "    </tr>\n",
       "    <tr>\n",
       "      <th>7</th>\n",
       "      <td>[film, parea, promitator, fapt, destul, rau, p...</td>\n",
       "      <td>0</td>\n",
       "    </tr>\n",
       "    <tr>\n",
       "      <th>8</th>\n",
       "      <td>[amuzant, distributie, mare, performante, groz...</td>\n",
       "      <td>1</td>\n",
       "    </tr>\n",
       "    <tr>\n",
       "      <th>9</th>\n",
       "      <td>[jurat, timp, urma, niciodata, uit, vreodata, ...</td>\n",
       "      <td>0</td>\n",
       "    </tr>\n",
       "    <tr>\n",
       "      <th>10</th>\n",
       "      <td>[filmele, nihiliste, brutale, vazut, vreodata,...</td>\n",
       "      <td>1</td>\n",
       "    </tr>\n",
       "  </tbody>\n",
       "</table>\n",
       "</div>"
      ],
      "text/plain": [
       "                                                 text  label\n",
       "0   [film, rau, film, vazut, vreodata, misiune, do...      0\n",
       "1   [calitatea, foley, film, saturat, intens, celu...      1\n",
       "3   [creativitatea, film, pierduta, inceput, scrii...      0\n",
       "4   [inchiriat, lucru, speram, reign, of, fire, na...      0\n",
       "5   [film, familie, incalzeste, inima, absolut, st...      1\n",
       "6                           [recomand, raportul, bun]      1\n",
       "7   [film, parea, promitator, fapt, destul, rau, p...      0\n",
       "8   [amuzant, distributie, mare, performante, groz...      1\n",
       "9   [jurat, timp, urma, niciodata, uit, vreodata, ...      0\n",
       "10  [filmele, nihiliste, brutale, vazut, vreodata,...      1"
      ]
     },
     "execution_count": 76,
     "metadata": {},
     "output_type": "execute_result"
    }
   ],
   "source": [
    "STOPWORDS = set(stopwords.words('romanian'))\n",
    "PUNCTUATION_SIGNS = [c for c in string.punctuation] + ['``', \"''\", '...', '..']\n",
    "\n",
    "# convert the labels from strings to binary values for our classifier\n",
    "df['label'] = df.label.map({l: idx for idx, l in enumerate(set(df.label))})\n",
    "\n",
    "# convert all characters to lower-case\n",
    "df['text'] = df.text.map(lambda x: x.lower())\n",
    "\n",
    "# remove new lines\n",
    "df = df.replace('\\n', ' ', regex=True)\n",
    "\n",
    "# apply tokenization: divide a string into substrings by splitting on the specified string (defined in subclasses).\n",
    "df['text'] = df['text'].apply(nltk.word_tokenize)\n",
    "\n",
    "# remove non-alphanumeric words\n",
    "df['text'] = df.text.map(lambda txt: [word for word in txt if word.isalpha()])\n",
    "\n",
    "# remove stopwords + punctuation signs\n",
    "df['text'] = df.text.map(lambda txt: [word.strip() for word in txt if word not in STOPWORDS])\n",
    "df['text'] = df.text.map(lambda txt: [word.strip() for word in txt if word not in PUNCTUATION_SIGNS ])\n",
    "\n",
    "# perform word stemming\n",
    "stemmer = SnowballStemmer(language=\"romanian\") \n",
    "df.head(10)"
   ]
  },
  {
   "cell_type": "code",
   "execution_count": 77,
   "metadata": {},
   "outputs": [
    {
     "data": {
      "text/html": [
       "<div>\n",
       "<style scoped>\n",
       "    .dataframe tbody tr th:only-of-type {\n",
       "        vertical-align: middle;\n",
       "    }\n",
       "\n",
       "    .dataframe tbody tr th {\n",
       "        vertical-align: top;\n",
       "    }\n",
       "\n",
       "    .dataframe thead th {\n",
       "        text-align: right;\n",
       "    }\n",
       "</style>\n",
       "<table border=\"1\" class=\"dataframe\">\n",
       "  <thead>\n",
       "    <tr style=\"text-align: right;\">\n",
       "      <th></th>\n",
       "      <th>text</th>\n",
       "      <th>label</th>\n",
       "    </tr>\n",
       "  </thead>\n",
       "  <tbody>\n",
       "    <tr>\n",
       "      <th>0</th>\n",
       "      <td>[film, rau, film, vazut, vreodat, misiun, domi...</td>\n",
       "      <td>0</td>\n",
       "    </tr>\n",
       "    <tr>\n",
       "      <th>1</th>\n",
       "      <td>[calitat, foley, film, satur, intens, celuloz,...</td>\n",
       "      <td>1</td>\n",
       "    </tr>\n",
       "    <tr>\n",
       "      <th>3</th>\n",
       "      <td>[creativ, film, pierdut, incep, scriitor, regi...</td>\n",
       "      <td>0</td>\n",
       "    </tr>\n",
       "    <tr>\n",
       "      <th>4</th>\n",
       "      <td>[inchir, lucru, sper, reign, of, fir, nast, ci...</td>\n",
       "      <td>0</td>\n",
       "    </tr>\n",
       "    <tr>\n",
       "      <th>5</th>\n",
       "      <td>[film, famil, incalzest, inim, absol, straluc,...</td>\n",
       "      <td>1</td>\n",
       "    </tr>\n",
       "    <tr>\n",
       "      <th>6</th>\n",
       "      <td>[recomand, raport, bun]</td>\n",
       "      <td>1</td>\n",
       "    </tr>\n",
       "    <tr>\n",
       "      <th>7</th>\n",
       "      <td>[film, par, promit, fapt, dest, rau, premis, c...</td>\n",
       "      <td>0</td>\n",
       "    </tr>\n",
       "    <tr>\n",
       "      <th>8</th>\n",
       "      <td>[amuz, distribut, mar, perform, grozav, ales, ...</td>\n",
       "      <td>1</td>\n",
       "    </tr>\n",
       "    <tr>\n",
       "      <th>9</th>\n",
       "      <td>[jurat, timp, urma, niciod, uit, vreodat, film...</td>\n",
       "      <td>0</td>\n",
       "    </tr>\n",
       "    <tr>\n",
       "      <th>10</th>\n",
       "      <td>[film, nihilist, brutal, vazut, vreodat, tragi...</td>\n",
       "      <td>1</td>\n",
       "    </tr>\n",
       "  </tbody>\n",
       "</table>\n",
       "</div>"
      ],
      "text/plain": [
       "                                                 text  label\n",
       "0   [film, rau, film, vazut, vreodat, misiun, domi...      0\n",
       "1   [calitat, foley, film, satur, intens, celuloz,...      1\n",
       "3   [creativ, film, pierdut, incep, scriitor, regi...      0\n",
       "4   [inchir, lucru, sper, reign, of, fir, nast, ci...      0\n",
       "5   [film, famil, incalzest, inim, absol, straluc,...      1\n",
       "6                             [recomand, raport, bun]      1\n",
       "7   [film, par, promit, fapt, dest, rau, premis, c...      0\n",
       "8   [amuz, distribut, mar, perform, grozav, ales, ...      1\n",
       "9   [jurat, timp, urma, niciod, uit, vreodat, film...      0\n",
       "10  [film, nihilist, brutal, vazut, vreodat, tragi...      1"
      ]
     },
     "execution_count": 77,
     "metadata": {},
     "output_type": "execute_result"
    }
   ],
   "source": [
    "df['text'] = df['text'].apply(lambda x: [stemmer.stem(y.strip()) for y in x if y])\n",
    "df.head(10)"
   ]
  },
  {
   "cell_type": "code",
   "execution_count": 78,
   "metadata": {},
   "outputs": [
    {
     "name": "stdout",
     "output_type": "stream",
     "text": [
      "There are 6827 labels with value 0\n",
      "There are 10825 labels with value 1\n"
     ]
    }
   ],
   "source": [
    "print('There are {} labels with value {}'.format(df[df.label==0].shape[0], 0))\n",
    "print('There are {} labels with value {}'.format(df[df.label==1].shape[0], 1))"
   ]
  },
  {
   "cell_type": "markdown",
   "metadata": {},
   "source": [
    "<h3>2.2. Balance the dataset</h3>"
   ]
  },
  {
   "cell_type": "code",
   "execution_count": 79,
   "metadata": {},
   "outputs": [
    {
     "name": "stdout",
     "output_type": "stream",
     "text": [
      "There are 6827 labels with value 0\n",
      "There are 6827 labels with value 1\n"
     ]
    },
    {
     "data": {
      "text/html": [
       "<div>\n",
       "<style scoped>\n",
       "    .dataframe tbody tr th:only-of-type {\n",
       "        vertical-align: middle;\n",
       "    }\n",
       "\n",
       "    .dataframe tbody tr th {\n",
       "        vertical-align: top;\n",
       "    }\n",
       "\n",
       "    .dataframe thead th {\n",
       "        text-align: right;\n",
       "    }\n",
       "</style>\n",
       "<table border=\"1\" class=\"dataframe\">\n",
       "  <thead>\n",
       "    <tr style=\"text-align: right;\">\n",
       "      <th></th>\n",
       "      <th>text</th>\n",
       "      <th>label</th>\n",
       "    </tr>\n",
       "  </thead>\n",
       "  <tbody>\n",
       "    <tr>\n",
       "      <th>14052</th>\n",
       "      <td>[auzit, raves, film, ani, zil, decis, urma, in...</td>\n",
       "      <td>0</td>\n",
       "    </tr>\n",
       "    <tr>\n",
       "      <th>6769</th>\n",
       "      <td>[comed, rar, recomand]</td>\n",
       "      <td>1</td>\n",
       "    </tr>\n",
       "    <tr>\n",
       "      <th>11906</th>\n",
       "      <td>[dap, film, dest, interes, scen, erot, dest, b...</td>\n",
       "      <td>0</td>\n",
       "    </tr>\n",
       "    <tr>\n",
       "      <th>14570</th>\n",
       "      <td>[film, merit, prem, ofer, film, pun, creieras,...</td>\n",
       "      <td>1</td>\n",
       "    </tr>\n",
       "    <tr>\n",
       "      <th>12060</th>\n",
       "      <td>[rugam, inchir, gandit, cumpar, macar, dispon,...</td>\n",
       "      <td>0</td>\n",
       "    </tr>\n",
       "    <tr>\n",
       "      <th>10436</th>\n",
       "      <td>[excelent, produs, ok]</td>\n",
       "      <td>1</td>\n",
       "    </tr>\n",
       "    <tr>\n",
       "      <th>8634</th>\n",
       "      <td>[impur, nepatruns, trebui, grav, film, vazut, ...</td>\n",
       "      <td>0</td>\n",
       "    </tr>\n",
       "    <tr>\n",
       "      <th>13826</th>\n",
       "      <td>[formul, flick, tip, vre, tip, mint, obtin, la...</td>\n",
       "      <td>0</td>\n",
       "    </tr>\n",
       "    <tr>\n",
       "      <th>1886</th>\n",
       "      <td>[anim, romant, aproap, ideal, trebui, vei, age...</td>\n",
       "      <td>1</td>\n",
       "    </tr>\n",
       "    <tr>\n",
       "      <th>4756</th>\n",
       "      <td>[caz, evit, tip, film, viitor, film, interes, ...</td>\n",
       "      <td>0</td>\n",
       "    </tr>\n",
       "  </tbody>\n",
       "</table>\n",
       "</div>"
      ],
      "text/plain": [
       "                                                    text  label\n",
       "14052  [auzit, raves, film, ani, zil, decis, urma, in...      0\n",
       "6769                              [comed, rar, recomand]      1\n",
       "11906  [dap, film, dest, interes, scen, erot, dest, b...      0\n",
       "14570  [film, merit, prem, ofer, film, pun, creieras,...      1\n",
       "12060  [rugam, inchir, gandit, cumpar, macar, dispon,...      0\n",
       "10436                             [excelent, produs, ok]      1\n",
       "8634   [impur, nepatruns, trebui, grav, film, vazut, ...      0\n",
       "13826  [formul, flick, tip, vre, tip, mint, obtin, la...      0\n",
       "1886   [anim, romant, aproap, ideal, trebui, vei, age...      1\n",
       "4756   [caz, evit, tip, film, viitor, film, interes, ...      0"
      ]
     },
     "execution_count": 79,
     "metadata": {},
     "output_type": "execute_result"
    }
   ],
   "source": [
    "positive_texts = df[df.label==1]\n",
    "negative_texts = df[df.label==0]\n",
    "df_preproc_balanced = pd.concat([positive_texts.sample(negative_texts.shape[0]), negative_texts], axis=0)\n",
    "\n",
    "print('There are {} labels with value {}'.format(df_preproc_balanced[df_preproc_balanced.label==0].shape[0], 0))\n",
    "print('There are {} labels with value {}'.format(df_preproc_balanced[df_preproc_balanced.label==1].shape[0], 1))\n",
    "\n",
    "# show a sample of 10 values\n",
    "df_preproc_balanced.sample(10)"
   ]
  },
  {
   "cell_type": "markdown",
   "metadata": {},
   "source": [
    "<h2>3. Scikit-learn based models</h2>"
   ]
  },
  {
   "cell_type": "markdown",
   "metadata": {},
   "source": [
    "<h3>3.1. Define methods</h3>"
   ]
  },
  {
   "cell_type": "code",
   "execution_count": 80,
   "metadata": {},
   "outputs": [],
   "source": [
    "def classify_logistic_regression(x_test, x_train, y_test, y_train):\n",
    "    # crate Logistic Regression classifier\n",
    "    model_lr = LogisticRegression()\n",
    "    \n",
    "    # fit classifier on training set\n",
    "    model_lr.fit(x_train, y_train)\n",
    "    \n",
    "    # predict on test dataset\n",
    "    y_pred_lr = model_lr.predict(x_test)\n",
    "    \n",
    "    # Use 'accuracy_score()' function to compute the prediction accuracy\n",
    "    _lr_accuracy_score = metrics.accuracy_score(y_pred_lr, y_test) * 100\n",
    "    \n",
    "    # compute classification report\n",
    "    classification_report = metrics.classification_report(y_test, y_pred_lr)\n",
    "    \n",
    "    return model_lr, _lr_accuracy_score, y_pred_lr, classification_report\n",
    "\n",
    "\n",
    "def classify_bayes(x_test, x_train, y_test, y_train):\n",
    "    # create Naive Bayes classifier\n",
    "  \n",
    "    model_bayes = naive_bayes.BernoulliNB()  # designed for binary/boolean features.\n",
    "\n",
    "    # fit Bayesian classifier on training set\n",
    "    model_bayes.fit(x_train, y_train)\n",
    "    \n",
    "    # predict on test dataset\n",
    "    y_pred_bayes = model_bayes.predict(x_test)\n",
    "    \n",
    "    # compute accuracy score by using accuracy_score() function\n",
    "    _bayes_accuracy_score = metrics.accuracy_score(y_pred_bayes, y_test) * 100\n",
    "    \n",
    "    # compute classification report\n",
    "    classification_report = metrics.classification_report(y_test, y_pred_bayes)\n",
    "    \n",
    "    return model_bayes, _bayes_accuracy_score, y_pred_bayes, classification_report\n",
    "\n",
    "\n",
    "def split_and_convert(_dataset, _test_size=0.2):\n",
    "\n",
    "    # split the model into train and test datasets\n",
    "    x_train_raw, x_test_raw, y_train_raw, y_test_raw = model_selection.train_test_split(_dataset['text'], _dataset['label'], test_size=_test_size)\n",
    "\n",
    "    # encode (replace) text labels with numerical values between 0 and n_classes-1\n",
    "    label_encoder = LabelEncoder()    \n",
    "\n",
    "    # convert labels to digits\n",
    "    y_train = label_encoder.fit_transform(y_train_raw)\n",
    "    y_test = label_encoder.fit_transform(y_test_raw)\n",
    "\n",
    "    # count words\n",
    "    count_vectorizer = CountVectorizer()\n",
    "    train_word_counts = count_vectorizer.fit_transform(x_train_raw)\n",
    "    test_word_counts = count_vectorizer.transform(x_test_raw)\n",
    "\n",
    "    # Transform x_train\n",
    "    transformer = TfidfTransformer(use_idf=True).fit(train_word_counts)\n",
    "    x_train_transformed = transformer.transform(train_word_counts)\n",
    "    x_train = x_train_transformed.toarray()  # matrices should not be sparse (aka. dense) -> hence .toarray()\n",
    "\n",
    "    # Transform x_test \n",
    "    x_test_transformed = transformer.transform(test_word_counts)\n",
    "    x_test = x_test_transformed.toarray()  # matrices should not be sparse (aka. dense) -> hence .toarray()\n",
    "\n",
    "    dataset_split = {'raw': {'x_train': x_train_raw, 'x_test': x_test_raw, \n",
    "                             'y_train': y_train_raw, 'y_test': y_test_raw},\n",
    "                     'transformed': {'x_train': x_train, 'x_test': x_test, \n",
    "                                     'y_train': y_train, 'y_test': y_test}}\n",
    "    \n",
    "    return dataset_split, transformer, count_vectorizer\n",
    "\n",
    "\n",
    "def truncate_dataset(dataset: pd.DataFrame, _max_words_per_document: int = 1000,\n",
    "                     max_texts: int = 1000) -> pd.DataFrame:\n",
    "    \"\"\"\n",
    "    This method does 2 things: 1. select a random sample from the dataset\n",
    "                               2. reduce the amount of words in a document\n",
    "    :param dataset: input dataset\n",
    "    :param _max_words_per_document: the maximum allowed number of words per document\n",
    "    :param max_texts: maximum allowed number of text from the dataset\n",
    "    :return: the truncated version of the dataset\n",
    "    \"\"\"\n",
    "#     print('Started truncating dataset')\n",
    "    if _max_words_per_document:\n",
    "        dataset['text'] = dataset['text'].apply(lambda x: ' '.join(x[0:_max_words_per_document]))\n",
    "    else:\n",
    "        dataset['text'] = dataset['text'].apply(lambda x: ' '.join(x))\n",
    "\n",
    "    # select a random subset of the texts\n",
    "    dataset = dataset.sample(max_texts)\n",
    "#     print('Done truncating the dataset')\n",
    "    \n",
    "    return dataset"
   ]
  },
  {
   "cell_type": "markdown",
   "metadata": {},
   "source": [
    "<h3>3.2. Run Experiments</h3>"
   ]
  },
  {
   "cell_type": "code",
   "execution_count": 81,
   "metadata": {},
   "outputs": [
    {
     "name": "stdout",
     "output_type": "stream",
     "text": [
      "Dataset length 13653, exp_no: 0\n",
      "Wall time: 23 s\n"
     ]
    }
   ],
   "source": [
    "%%time\n",
    "def run(dataset: pd.DataFrame, test_size=0.2):\n",
    "    \"\"\"\n",
    "    Do the actual training, fitting and testing of the models.\n",
    "    :param dataset: input dataset\n",
    "    :param test_size: how large the test is\n",
    "    :return:\n",
    "    \"\"\"\n",
    "    # train and split dataset into train and test parts\n",
    "    dataset_split, transformer, count_vectorizer = split_and_convert(dataset, test_size)\n",
    "\n",
    "    # group train/test datasets\n",
    "    x_test, x_train, y_test, y_train = dataset_split['transformed']['x_test'], \\\n",
    "                                       dataset_split['transformed']['x_train'], \\\n",
    "                                       dataset_split['transformed']['y_test'], \\\n",
    "                                       dataset_split['transformed']['y_train']\n",
    "    \n",
    "    # 1. Bayes\n",
    "    model_bayes, bayes_accuracy_score, y_pred_bayes, cl_report_bayes = classify_bayes(x_test, x_train, y_test, y_train)\n",
    "\n",
    "\n",
    "    # 2. Logistic Regression\n",
    "    model_lr, lr_accuracy_score, y_pred_lr, cl_report_lr = classify_logistic_regression(x_test, x_train, y_test, y_train)\n",
    "    \n",
    "    # group accuracy scores\n",
    "    accuracy_scores = {'bayes': bayes_accuracy_score, 'lr': lr_accuracy_score}\n",
    "    \n",
    "    # group models\n",
    "    models = {'bayes': model_bayes, 'lr': model_lr}\n",
    "    \n",
    "    # group classification reports\n",
    "    classification_reports = {'bayes': cl_report_bayes, 'lr': cl_report_lr}\n",
    "    \n",
    "    return accuracy_scores, models, classification_reports, transformer, count_vectorizer, dataset_split\n",
    "\n",
    "####################################################\n",
    "\n",
    "results = pd.DataFrame(columns=['max_no_texts', 'classifier_type', 'exp_no', 'accuracy'])\n",
    "repeats = 1\n",
    "transformer = None\n",
    "\n",
    "for dl in range(13653, 13654, 1):\n",
    "    # repeat experiment for the same parameters a couple of times\n",
    "    for exp_no in range(repeats):\n",
    "        print('Dataset length {}, exp_no: {}'.format(dl, exp_no))\n",
    "        truncated_dataset = truncate_dataset(dataset=df_preproc_balanced.copy(), max_texts=dl)\n",
    "        \n",
    "        # run an experiment\n",
    "        accuracy_scores, models, classification_reports, \\\n",
    "        transformer, count_vectorizer, dataset_split = run(dataset=truncated_dataset, test_size=0.2)\n",
    "        \n",
    "        # store the results\n",
    "        results = results.append({'max_no_texts': dl, 'classifier_type': 'bayes',\n",
    "                                  'exp_no': exp_no, 'accuracy': accuracy_scores['bayes']}, ignore_index=True)\n",
    "\n",
    "        \n",
    "        results = results.append({'max_no_texts': dl, 'classifier_type': 'LR',\n",
    "                                  'exp_no': exp_no, 'accuracy': accuracy_scores['lr']}, ignore_index=True)"
   ]
  },
  {
   "cell_type": "markdown",
   "metadata": {},
   "source": [
    "<h3>3.3. Plot results</h3>"
   ]
  },
  {
   "cell_type": "code",
   "execution_count": 82,
   "metadata": {},
   "outputs": [
    {
     "data": {
      "image/png": "[encoded data removed]",
      "text/plain": [
       "<Figure size 1440x720 with 1 Axes>"
      ]
     },
     "metadata": {
      "needs_background": "light"
     },
     "output_type": "display_data"
    }
   ],
   "source": [
    "def plot_results(_results):\n",
    "    plt.rcParams.update({'font.size': 18})\n",
    "    fig, ax = plt.subplots(figsize=(20, 10))\n",
    "    plt.rc('legend', fontsize=23, loc='lower right')\n",
    "\n",
    "    # unstack the dataframe\n",
    "    _results.groupby(['max_no_texts', 'classifier_type']).accuracy.agg(['median']).unstack().plot(ax=ax, grid=True, kind='bar')\n",
    "    ax.legend([ 'LR',  'Bayes'])\n",
    "    ax.set_xlabel('Dataset length', size=18)\n",
    "    ax.set_ylabel('Accuracy [%]', size=18)\n",
    "\n",
    "plot_results(results)"
   ]
  },
  {
   "cell_type": "code",
   "execution_count": 83,
   "metadata": {},
   "outputs": [
    {
     "name": "stdout",
     "output_type": "stream",
     "text": [
      "dataset shape: (13654, 2)\n",
      "bayes: 75.57671182716955\n",
      "logistic regression: 85.64628341266936\n"
     ]
    }
   ],
   "source": [
    "print('dataset shape: {}'.format(df_preproc_balanced.shape))\n",
    "print('bayes: {}'.format(accuracy_scores['bayes']))\n",
    "print('logistic regression: {}'.format(accuracy_scores['lr']))"
   ]
  },
  {
   "cell_type": "markdown",
   "metadata": {},
   "source": [
    "<h3>3.4. Test models</h3>"
   ]
  },
  {
   "cell_type": "code",
   "execution_count": 86,
   "metadata": {},
   "outputs": [
    {
     "data": {
      "text/plain": [
       "array([1, 0, 0], dtype=int64)"
      ]
     },
     "execution_count": 86,
     "metadata": {},
     "output_type": "execute_result"
    }
   ],
   "source": [
    "test_sample1 = 'Filmul este fantastic! Imi place foarte mult!'\n",
    "test_sample2 = 'Filmul este groaznic! Nu l-as viziona!'\n",
    "test_sample3 = 'Filmul este so-so. As merge mai degraba la teatru.'\n",
    "\n",
    "data = {'text': [test_sample1, test_sample2, test_sample3], 'label': [-1, -1, -1]}\n",
    "data_df = pd.DataFrame.from_dict(data)\n",
    "\n",
    "counts = count_vectorizer.transform(data_df['text'])\n",
    "text = transformer.transform(counts)\n",
    "\n",
    "models['lr'].predict(text)"
   ]
  },
  {
   "cell_type": "markdown",
   "metadata": {},
   "source": [
    "<h3>3.5. Model accuracy stats</h3>"
   ]
  },
  {
   "cell_type": "code",
   "execution_count": 87,
   "metadata": {},
   "outputs": [
    {
     "name": "stdout",
     "output_type": "stream",
     "text": [
      "              precision    recall  f1-score   support\n",
      "\n",
      "           0       0.85      0.86      0.85      1343\n",
      "           1       0.86      0.86      0.86      1388\n",
      "\n",
      "    accuracy                           0.86      2731\n",
      "   macro avg       0.86      0.86      0.86      2731\n",
      "weighted avg       0.86      0.86      0.86      2731\n",
      "\n",
      "              precision    recall  f1-score   support\n",
      "\n",
      "           0       0.77      0.72      0.74      1343\n",
      "           1       0.74      0.79      0.77      1388\n",
      "\n",
      "    accuracy                           0.76      2731\n",
      "   macro avg       0.76      0.76      0.76      2731\n",
      "weighted avg       0.76      0.76      0.76      2731\n",
      "\n"
     ]
    }
   ],
   "source": [
    "print(classification_reports['lr'])\n",
    "print(classification_reports['bayes'])"
   ]
  },
  {
   "cell_type": "markdown",
   "metadata": {},
   "source": []
  },
  {
   "cell_type": "code",
   "execution_count": null,
   "metadata": {},
   "outputs": [],
   "source": []
  },
  {
   "cell_type": "markdown",
   "metadata": {},
   "source": [
    "<h2>4. NN-based classifier</h2>"
   ]
  },
  {
   "cell_type": "code",
   "execution_count": 88,
   "metadata": {},
   "outputs": [],
   "source": [
    "\n",
    "from tensorflow.keras.preprocessing.text import Tokenizer\n",
    "from tensorflow.keras.preprocessing.sequence import pad_sequences\n",
    "from tensorflow.keras.models import Sequential\n",
    "from tensorflow.keras.layers import Dense, Embedding, LSTM, GRU\n",
    "from tensorflow.keras.layers import Embedding, BatchNormalization\n",
    "from tensorflow.keras.initializers import Constant\n",
    "from tensorflow.keras import optimizers\n",
    "from tensorflow.keras.models import model_from_json\n",
    "import tensorflow"
   ]
  },
  {
   "cell_type": "markdown",
   "metadata": {},
   "source": [
    "<h3>4.1. Learn word embedding</h3>"
   ]
  },
  {
   "cell_type": "code",
   "execution_count": 89,
   "metadata": {},
   "outputs": [],
   "source": [
    "# join back words into strings\n",
    "df_preproc_str = df_raw.copy()\n",
    "df_preproc_str['text'] = df_preproc_str['text'].apply(lambda l: ' '.join(l))"
   ]
  },
  {
   "cell_type": "code",
   "execution_count": 90,
   "metadata": {},
   "outputs": [
    {
     "name": "stdout",
     "output_type": "stream",
     "text": [
      "17652\n",
      "max_length: 373\n",
      "vocab_size: 52890\n"
     ]
    }
   ],
   "source": [
    "# select a random subset of the texts\n",
    "df_raw_sample = df_raw.copy()#sample(10000)\n",
    "\n",
    "# split the model into train and test datasets\n",
    "x_train, x_test, y_train, y_test = model_selection.train_test_split(df_raw_sample['text'], df_raw_sample['label'], test_size=0.2)\n",
    "\n",
    "x_train = x_train.values\n",
    "x_test = x_test.values\n",
    "\n",
    "y_train = y_train.values\n",
    "y_test = y_test.values\n",
    "\n",
    "print(len(x_train) + len(x_test))\n",
    "\n",
    "x_all = list(x_train) + list(x_test)\n",
    "\n",
    "# define tokenizer object\n",
    "tokenizer_obj = Tokenizer()\n",
    "tokenizer_obj.fit_on_texts(x_all)\n",
    "\n",
    "# store tokenizer obj to file\n",
    "\n",
    "with open('tokenizer.obj', 'wb') as tokenizer_file:\n",
    "    pickle.dump(tokenizer_obj, tokenizer_file)\n",
    "\n",
    "# pad sequences\n",
    "max_length = max([len(s.split()) for s in x_all])\n",
    "\n",
    "print('max_length: {}'.format(max_length))\n",
    "\n",
    "# define vocabulary size\n",
    "vocab_size = len(tokenizer_obj.word_index) + 1\n",
    "\n",
    "print('vocab_size: {}'.format(vocab_size))\n",
    "\n",
    "x_train_tokens = tokenizer_obj.texts_to_sequences(x_train)\n",
    "x_test_tokens = tokenizer_obj.texts_to_sequences(x_test)\n",
    "\n",
    "x_train_pad = pad_sequences(x_train_tokens, maxlen=max_length, padding='post')\n",
    "x_test_pad = pad_sequences(x_test_tokens, maxlen=max_length, padding='post')"
   ]
  },
  {
   "cell_type": "markdown",
   "metadata": {},
   "source": [
    "<h3>4.2. Build Model</h3>"
   ]
  },
  {
   "cell_type": "code",
   "execution_count": 98,
   "metadata": {},
   "outputs": [
    {
     "name": "stdout",
     "output_type": "stream",
     "text": [
      "Started building model structure...\n",
      "Done building model structure...\n",
      "Model: \"sequential_11\"\n",
      "_________________________________________________________________\n",
      " Layer (type)                Output Shape              Param #   \n",
      "=================================================================\n",
      " embedding_11 (Embedding)    (None, 373, 100)          5289000   \n",
      "                                                                 \n",
      " gru_9 (GRU)                 (None, 64)                31872     \n",
      "                                                                 \n",
      " batch_normalization_8 (Batc  (None, 64)               256       \n",
      " hNormalization)                                                 \n",
      "                                                                 \n",
      " dense_8 (Dense)             (None, 1)                 65        \n",
      "                                                                 \n",
      "=================================================================\n",
      "Total params: 5,321,193\n",
      "Trainable params: 5,321,065\n",
      "Non-trainable params: 128\n",
      "_________________________________________________________________\n",
      "None\n"
     ]
    }
   ],
   "source": [
    "EMBEDDING_DIM = 100\n",
    "\n",
    "print('Started building model structure...')\n",
    "\n",
    "rnn_model = Sequential()\n",
    "rnn_model.add(Embedding(vocab_size, EMBEDDING_DIM, input_length=max_length))\n",
    "rnn_model.add(GRU(units=64, dropout=0.1, recurrent_dropout=0.1))\n",
    "rnn_model.add(BatchNormalization())\n",
    "rnn_model.add(Dense(1, activation='sigmoid'))\n",
    "\n",
    "_optimizer = optimizers.RMSprop(lr=0.01)\n",
    "\n",
    "# try using different optimizers and fidderent optimizer configs\n",
    "rnn_model.compile(loss='binary_crossentropy', optimizer=_optimizer,\n",
    "              metrics=['accuracy'])\n",
    "\n",
    "print('Done building model structure...')\n",
    "print(rnn_model.summary())"
   ]
  },
  {
   "cell_type": "markdown",
   "metadata": {},
   "source": [
    "<h3>4.3. Train Model</h3>"
   ]
  },
  {
   "cell_type": "code",
   "execution_count": 99,
   "metadata": {},
   "outputs": [
    {
     "name": "stdout",
     "output_type": "stream",
     "text": [
      "Started training the model...\n",
      "Epoch 1/100\n",
      "442/442 - 113s - loss: 0.3918 - accuracy: 0.8107 - val_loss: 0.2568 - val_accuracy: 0.8898 - 113s/epoch - 255ms/step\n",
      "Epoch 2/100\n",
      "442/442 - 111s - loss: 0.1741 - accuracy: 0.9348 - val_loss: 0.3535 - val_accuracy: 0.8683 - 111s/epoch - 250ms/step\n",
      "Epoch 3/100\n",
      "442/442 - 111s - loss: 0.0973 - accuracy: 0.9683 - val_loss: 0.4035 - val_accuracy: 0.8779 - 111s/epoch - 252ms/step\n",
      "Epoch 4/100\n",
      "442/442 - 110s - loss: 0.0795 - accuracy: 0.9750 - val_loss: 0.3541 - val_accuracy: 0.8879 - 110s/epoch - 250ms/step\n",
      "Epoch 5/100\n",
      "442/442 - 111s - loss: 0.0616 - accuracy: 0.9802 - val_loss: 0.4758 - val_accuracy: 0.8703 - 111s/epoch - 251ms/step\n",
      "Epoch 6/100\n",
      "442/442 - 111s - loss: 0.0513 - accuracy: 0.9827 - val_loss: 0.5485 - val_accuracy: 0.8881 - 111s/epoch - 251ms/step\n",
      "Epoch 7/100\n",
      "442/442 - 110s - loss: 0.0586 - accuracy: 0.9819 - val_loss: 0.5188 - val_accuracy: 0.8785 - 110s/epoch - 249ms/step\n",
      "Epoch 8/100\n",
      "442/442 - 111s - loss: 0.0555 - accuracy: 0.9808 - val_loss: 0.5432 - val_accuracy: 0.8632 - 111s/epoch - 250ms/step\n",
      "Epoch 9/100\n",
      "442/442 - 111s - loss: 0.0513 - accuracy: 0.9836 - val_loss: 0.5459 - val_accuracy: 0.8768 - 111s/epoch - 251ms/step\n",
      "Epoch 10/100\n",
      "442/442 - 111s - loss: 0.0598 - accuracy: 0.9803 - val_loss: 0.5175 - val_accuracy: 0.8607 - 111s/epoch - 251ms/step\n",
      "Epoch 11/100\n",
      "442/442 - 111s - loss: 0.0551 - accuracy: 0.9817 - val_loss: 0.5463 - val_accuracy: 0.8632 - 111s/epoch - 251ms/step\n",
      "Done training the model...\n",
      "Wall time: 20min 20s\n"
     ]
    }
   ],
   "source": [
    "%%time\n",
    "print('Started training the model...')\n",
    "early_stopping = tensorflow.keras.callbacks.EarlyStopping(monitor='val_accuracy', patience=10)\n",
    "history = rnn_model.fit(x_train_pad, y_train, \n",
    "                        batch_size=32, \n",
    "                        epochs=100, \n",
    "                        validation_data=(x_test_pad, y_test), \n",
    "                        callbacks=[early_stopping],\n",
    "                        verbose=2)\n",
    "print('Done training the model...')"
   ]
  },
  {
   "cell_type": "markdown",
   "metadata": {},
   "source": [
    "<h3>4.4. Plot train history</h3>"
   ]
  },
  {
   "cell_type": "code",
   "execution_count": 100,
   "metadata": {},
   "outputs": [
    {
     "name": "stdout",
     "output_type": "stream",
     "text": [
      "dict_keys(['loss', 'accuracy', 'val_loss', 'val_accuracy'])\n"
     ]
    },
    {
     "data": {
      "image/png": "[encoded data removed]",
      "text/plain": [
       "<Figure size 432x288 with 1 Axes>"
      ]
     },
     "metadata": {
      "needs_background": "light"
     },
     "output_type": "display_data"
    },
    {
     "data": {
      "image/png": "[encoded data removed]",
      "text/plain": [
       "<Figure size 432x288 with 1 Axes>"
      ]
     },
     "metadata": {
      "needs_background": "light"
     },
     "output_type": "display_data"
    }
   ],
   "source": [
    "print(history.history.keys())\n",
    "\n",
    "import matplotlib.pyplot as plt\n",
    "\n",
    "# Plot training & validation accuracy values\n",
    "plt.plot(history.history['accuracy'])\n",
    "plt.plot(history.history['val_accuracy'])\n",
    "plt.title('Model accuracy')\n",
    "plt.ylabel('Accuracy')\n",
    "plt.xlabel('Epoch')\n",
    "plt.legend(['Train', 'Test'], loc='lower right')\n",
    "plt.show()\n",
    "\n",
    "# Plot training & validation loss values\n",
    "plt.plot(history.history['loss'])\n",
    "plt.plot(history.history['val_loss'])\n",
    "plt.title('Model loss')\n",
    "plt.ylabel('Loss')\n",
    "plt.xlabel('Epoch')\n",
    "plt.legend(['Train', 'Test'], loc='center right')\n",
    "plt.show()"
   ]
  },
  {
   "cell_type": "code",
   "execution_count": 20,
   "metadata": {},
   "outputs": [
    {
     "name": "stdout",
     "output_type": "stream",
     "text": [
      "Started saving model JSON to ./model_sentiment_rnn.json\n",
      "Done saving model JSON to ./model_sentiment_rnn.json\n",
      "Started saving model weights to ./model_sentiment_rnn.h5\n",
      "Done saving model weights to ./model_sentiment_rnn.h5\n"
     ]
    }
   ],
   "source": [
    "def store_model(_model, path='./', file_prefix='model_sentiment_rnn'):\n",
    "    \n",
    "    # serialize model to JSON\n",
    "    model_json = _model.to_json()\n",
    "    json_file_path = os.path.join(path, \"{}.json\".format(file_prefix))\n",
    "    print('Started saving model JSON to {}'.format(json_file_path))\n",
    "    assert os.path.exists(path)\n",
    "    with open(json_file_path, \"w+\") as json_file:\n",
    "        json_file.write(model_json)\n",
    "    print(\"Done saving model JSON to {}\".format(json_file_path))\n",
    "    \n",
    "    # serialize weights to HDF5\n",
    "    weights_file_path = os.path.join(path, '{}.h5'.format(file_prefix))\n",
    "    print(\"Started saving model weights to {}\".format(weights_file_path))\n",
    "    _model.save_weights(weights_file_path)\n",
    "    print(\"Done saving model weights to {}\".format(weights_file_path))\n",
    "\n",
    "def load_model(path='./', file_prefix='model_sentiment_rnn'):\n",
    "    # load json and create model\n",
    "    print('Started loading model from JSON file')\n",
    "    with open('{}.json'.format(file_prefix), 'r') as json_file:\n",
    "        loaded_model_json = json_file.read()\n",
    "    loaded_model = model_from_json(loaded_model_json)\n",
    "    print('Done loading model from JSON file')\n",
    "    \n",
    "    # load weights into new model\n",
    "    print(\"Starting loading model from disk\")\n",
    "    weights_file_path = os.path.join(path, '{}.h5'.format(file_prefix))\n",
    "    assert os.path.exists(weights_file_path)\n",
    "    loaded_model.load_weights(weights_file_path)\n",
    "    print(\"Done loading model from disk from file: {}\".format(weights_file_path))\n",
    "    return loaded_model\n",
    "\n",
    "# save model:\n",
    "store_model(rnn_model)\n",
    "# model = load_model()\n",
    "# print(model)"
   ]
  },
  {
   "cell_type": "markdown",
   "metadata": {},
   "source": [
    "<h3>4.5. Test Model</h3>"
   ]
  },
  {
   "cell_type": "code",
   "execution_count": 124,
   "metadata": {},
   "outputs": [
    {
     "name": "stdout",
     "output_type": "stream",
     "text": [
      "1/1 [==============================] - 0s 48ms/step\n"
     ]
    },
    {
     "data": {
      "text/plain": [
       "array([[0.9996122 ],\n",
       "       [0.9996785 ],\n",
       "       [0.3526308 ],\n",
       "       [0.02519246],\n",
       "       [0.5597522 ],\n",
       "       [0.9999763 ],\n",
       "       [0.13173172],\n",
       "       [0.070989  ],\n",
       "       [0.999658  ],\n",
       "       [0.999889  ]], dtype=float32)"
      ]
     },
     "execution_count": 124,
     "metadata": {},
     "output_type": "execute_result"
    }
   ],
   "source": [
    "test_sample1 = 'Filmul este fantastic! Imi place foarte mult!'\n",
    "test_sample2 = 'Filmul este spectaculos! Mi-a placut foarte, foarte mult!'\n",
    "test_sample3 = 'Filmul a fost teribil. As merge mai degraba la teatru.'\n",
    "test_sample4 = 'A fost un film plictisitor.'\n",
    "test_sample5 = 'Filmul nu a fost preferatul meu'\n",
    "test_sample6 = 'Sunt foarte multumita. '\n",
    "test_sample7 = 'Nu m-a impresionat... a fost o pierdere de timp'\n",
    "test_sample8 = 'Se putea mai bine, actorii nu au jucat bine'\n",
    "test_sample9 = 'Cel mai bun film pe care l-am vazut anul acesta!'\n",
    "test_sample10 = 'Un desen foarte bun pentru copii, fetitei mele i-a placut mult'\n",
    "test_samples = [test_sample1, test_sample2, test_sample3, test_sample4, test_sample5, test_sample6, test_sample7, test_sample8, test_sample9, test_sample10]\n",
    "\n",
    "test_samples_tokens = tokenizer_obj.texts_to_sequences(test_samples)\n",
    "test_samples_tokens_pad = pad_sequences(test_samples_tokens, maxlen=max_length)\n",
    "\n",
    "# predict\n",
    "rnn_model.predict(x=test_samples_tokens_pad)"
   ]
  },
  {
   "cell_type": "markdown",
   "metadata": {},
   "source": []
  },
  {
   "cell_type": "code",
   "execution_count": 27,
   "metadata": {},
   "outputs": [
    {
     "name": "stdout",
     "output_type": "stream",
     "text": [
      "Vocabulary size: 29749\n"
     ]
    }
   ],
   "source": []
  },
  {
   "cell_type": "markdown",
   "metadata": {},
   "source": []
  },
  {
   "cell_type": "code",
   "execution_count": 33,
   "metadata": {},
   "outputs": [
    {
     "data": {
      "text/plain": [
       "[('sigur', 0.8714697957038879),\n",
       " ('probabil', 0.8610736131668091),\n",
       " ('remod', 0.8519622087478638),\n",
       " ('ide', 0.8476916551589966),\n",
       " ('ser', 0.8439781069755554),\n",
       " ('documentar', 0.8381893038749695),\n",
       " ('lam', 0.8378049731254578),\n",
       " ('schlock', 0.8327854871749878),\n",
       " ('spectacol', 0.831077516078949),\n",
       " ('plang', 0.8269590735435486)]"
      ]
     },
     "execution_count": 33,
     "metadata": {},
     "output_type": "execute_result"
    }
   ],
   "source": []
  },
  {
   "cell_type": "code",
   "execution_count": 29,
   "metadata": {},
   "outputs": [
    {
     "name": "stdout",
     "output_type": "stream",
     "text": [
      "copac\n"
     ]
    }
   ],
   "source": []
  },
  {
   "cell_type": "code",
   "execution_count": null,
   "metadata": {},
   "outputs": [],
   "source": []
  }
 ],
 "metadata": {
  "kernelspec": {
   "display_name": "Python 3",
   "language": "python",
   "name": "python3"
  },
  "language_info": {
   "codemirror_mode": {
    "name": "ipython",
    "version": 3
   },
   "file_extension": ".py",
   "mimetype": "text/x-python",
   "name": "python",
   "nbconvert_exporter": "python",
   "pygments_lexer": "ipython3",
   "version": "3.8.3"
  }
 },
 "nbformat": 4,
 "nbformat_minor": 4
}
